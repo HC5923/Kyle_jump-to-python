{
 "cells": [
  {
   "cell_type": "code",
   "execution_count": 13,
   "metadata": {},
   "outputs": [
    {
     "name": "stdout",
     "output_type": "stream",
     "text": [
      "True\n",
      "False\n",
      "True\n",
      "False\n",
      "True\n",
      "False\n"
     ]
    }
   ],
   "source": [
    "def is_odd(number):\n",
    "    if number % 2 == 1:\n",
    "        return print(\"True\")\n",
    "    else:\n",
    "        return print(\"False\")\n",
    "is_odd(99999999)\n",
    "is_odd(10000000000000)\n",
    "is_odd(3)\n",
    "is_odd(4)\n",
    "is_odd(5)\n",
    "is_odd(6)"
   ]
  },
  {
   "cell_type": "code",
   "execution_count": 11,
   "metadata": {},
   "outputs": [
    {
     "data": {
      "text/plain": [
       "1.5"
      ]
     },
     "execution_count": 11,
     "metadata": {},
     "output_type": "execute_result"
    }
   ],
   "source": [
    "def avg_numbers(*args):\n",
    "    result = 0\n",
    "    for i in args:\n",
    "        result += i\n",
    "    return result / len(args)\n",
    "avg_numbers(1, 2)"
   ]
  },
  {
   "cell_type": "code",
   "execution_count": 12,
   "metadata": {},
   "outputs": [
    {
     "data": {
      "text/plain": [
       "3.0"
      ]
     },
     "execution_count": 12,
     "metadata": {},
     "output_type": "execute_result"
    }
   ],
   "source": [
    "def avg_numbers(*args):\n",
    "    result = 0\n",
    "    for i in args:\n",
    "        result += i\n",
    "    return result / len(args)\n",
    "avg_numbers(1,2,3,4,5)"
   ]
  },
  {
   "cell_type": "code",
   "execution_count": 16,
   "metadata": {},
   "outputs": [
    {
     "name": "stdout",
     "output_type": "stream",
     "text": [
      "두 수의 합은 9입니다\n"
     ]
    }
   ],
   "source": [
    "input1 = input(\"첫 번째 숫자를 입력하세요: \")\n",
    "input2 = input(\"두 번째 숫자를 입력하세요: \")\n",
    "\n",
    "total = int(input1) + int(input2)\n",
    "print(\"두 수의 합은 %s입니다\" % total)"
   ]
  },
  {
   "cell_type": "code",
   "execution_count": 17,
   "metadata": {},
   "outputs": [
    {
     "name": "stdout",
     "output_type": "stream",
     "text": [
      "youneedpython\n",
      "youneedpython\n",
      "you need python\n",
      "youneedpython\n"
     ]
    }
   ],
   "source": [
    "print(\"you\" \"need\" \"python\")\n",
    "print(\"you\" + \"need\" + \"python\")\n",
    "print(\"you\", \"need\", \"python\")\n",
    "print(\"\".join([\"you\", \"need\", \"python\"]))"
   ]
  },
  {
   "cell_type": "code",
   "execution_count": 19,
   "metadata": {},
   "outputs": [
    {
     "name": "stdout",
     "output_type": "stream",
     "text": [
      "Life is too short\n"
     ]
    }
   ],
   "source": [
    "f1 = open(\"test.txt\", 'w')\n",
    "f1.write(\"Life is too short\")\n",
    "\n",
    "f2 = open(\"test.txt\", 'r')\n",
    "print(f2.read())"
   ]
  },
  {
   "cell_type": "code",
   "execution_count": null,
   "metadata": {},
   "outputs": [],
   "source": []
  }
 ],
 "metadata": {
  "kernelspec": {
   "display_name": "Python 3",
   "language": "python",
   "name": "python3"
  },
  "language_info": {
   "codemirror_mode": {
    "name": "ipython",
    "version": 3
   },
   "file_extension": ".py",
   "mimetype": "text/x-python",
   "name": "python",
   "nbconvert_exporter": "python",
   "pygments_lexer": "ipython3",
   "version": "3.9.6"
  }
 },
 "nbformat": 4,
 "nbformat_minor": 2
}
