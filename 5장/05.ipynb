{
 "cells": [
  {
   "cell_type": "code",
   "execution_count": 58,
   "metadata": {},
   "outputs": [
    {
     "name": "stdout",
     "output_type": "stream",
     "text": [
      "3\n"
     ]
    }
   ],
   "source": [
    "#1\n",
    "class Calculator:\n",
    "    def __init__(self):\n",
    "        self.value = 0\n",
    "    \n",
    "    def add(self, val):\n",
    "        self.value += val\n",
    "\n",
    "class UpgradeCalculator(Calculator):\n",
    "    def minus(self, val):\n",
    "        self.value -= val\n",
    "\n",
    "#위 클래스를 상속하는 UpgradeCaculator 를 만들고, 값을 뺄 수 있는 -= 을 넣어서 minus 메서드에 삽입\n",
    "\n",
    "cal = UpgradeCalculator()\n",
    "cal.add(10)\n",
    "cal.minus(7)\n",
    "\n",
    "print(cal.value)"
   ]
  },
  {
   "cell_type": "code",
   "execution_count": 62,
   "metadata": {},
   "outputs": [
    {
     "name": "stdout",
     "output_type": "stream",
     "text": [
      "100\n"
     ]
    }
   ],
   "source": [
    "# 2\n",
    "class Calculator:\n",
    "    def __init__(self):\n",
    "        self.value = 0\n",
    "\n",
    "    def add(self, val):\n",
    "        self.valut += val\n",
    "\n",
    "class MaxLimitCalculator(Calculator):\n",
    "    def add(self, val):        \n",
    "        self.value += val\n",
    "        if self.value > 100:\n",
    "            self.value = 100\n",
    "\n",
    "# Calculator 클래스를 상속하고, add 메서드를 오버라이딩해서 100보다 큰 값이 나올 때 100을 반환하는 클래스 만들어줌\n",
    "\n",
    "cal = MaxLimitCalculator()\n",
    "cal.add(100)\n",
    "cal.add(40)\n",
    "\n",
    "print(cal.value)"
   ]
  },
  {
   "cell_type": "code",
   "execution_count": 67,
   "metadata": {},
   "outputs": [
    {
     "data": {
      "text/plain": [
       "True"
      ]
     },
     "execution_count": 67,
     "metadata": {},
     "output_type": "execute_result"
    }
   ],
   "source": [
    "# 3\n",
    "all([1, 2, abs(-3)-3])\n",
    "# False: abs는 python 의 내장함수인데, 절댓값을 반환하는 함수임. 그래서 -3도 3으로 인식됨.\n",
    "# 1은 참이고 2도 참이지만, abs(-3)이 3을 반환하므로 3-3=0 이 되어 거짓이됨. (all 리스트에 0이 반환되면 False 로 간주함)\n",
    "\n",
    "chr(ord('a')) == 'a'\n",
    "# True"
   ]
  },
  {
   "cell_type": "code",
   "execution_count": 2,
   "metadata": {},
   "outputs": [
    {
     "data": {
      "text/plain": [
       "[1, 3, 8, 3]"
      ]
     },
     "execution_count": 2,
     "metadata": {},
     "output_type": "execute_result"
    }
   ],
   "source": [
    "# 4 filter 와 lambda 를 사용해서 리스트 [1,-2,3,-5,8,3] 에서 음수를 제거해보자.\n",
    "list(filter(lambda x: x >= 0, [1, -2, 3, -5, 8, 3]))\n",
    "# filter 함수로 filter(function, iterable) 두개의 인수를 받아옴, function 은 각 요소에 적용할 함수로써 True 또는 False를 반환해야함\n",
    "# 여기서 iterable은 함수가 적용될 데이터를 말하며, 여기서는 리스트 1,-2 ~ 어쩌구를 말함. \n",
    "\n",
    "# lambda 함수는 간단한 함수를 익명으로 정의하는 방법임. 여기서 lambda x: x >= 0 은 입력값 x가 0보다 크거나 같으면 True,\n",
    "# 그렇지 않으면 False 반환시킴. 즉 양수와 0만 통과시키고 음수는 걸러냄"
   ]
  },
  {
   "cell_type": "code",
   "execution_count": 13,
   "metadata": {},
   "outputs": [
    {
     "data": {
      "text/plain": [
       "234"
      ]
     },
     "execution_count": 13,
     "metadata": {},
     "output_type": "execute_result"
    }
   ],
   "source": [
    "# 5\n",
    "int('0xea', 16)\n",
    "# hex(234) 에서 234라는 10진수를 16진수로 바꿔줬다. 이번에는 반대로 16진수 문자열 '0xea'를 10진수로 변경해보자.\n",
    "# 내장함수 int를 활용하면 쉽다고하니, int로 '0xea' 를 묶어서 써보니 값이 나왔다. \n",
    "# int(0xea) 는 되지만, int(0xea, 16) 은 비 문자열로 인식하여 타입에러가 뜬다. 그래서 앞에껄 묶어주면 댐 "
   ]
  },
  {
   "cell_type": "code",
   "execution_count": 14,
   "metadata": {},
   "outputs": [
    {
     "data": {
      "text/plain": [
       "[3, 6, 9, 12]"
      ]
     },
     "execution_count": 14,
     "metadata": {},
     "output_type": "execute_result"
    }
   ],
   "source": [
    "# 6\n",
    "list(map(lambda x: x*3, [1,2,3,4]))\n",
    "# 4번에서 하던 방식으로 해보니까 댐. 알아보니 map 이 filter와 같이 mab(function, iterable) 두개의 인수를 받아옴."
   ]
  },
  {
   "cell_type": "code",
   "execution_count": 19,
   "metadata": {},
   "outputs": [
    {
     "data": {
      "text/plain": [
       "-1"
      ]
     },
     "execution_count": 19,
     "metadata": {},
     "output_type": "execute_result"
    }
   ],
   "source": [
    "# 7\n",
    "#list = [-8, 2, 7, 5, -3 , 5, 0, 1]\n",
    "#max(list) + min(list)\n",
    "# tip. list는 기본 자료형이기 때문에 변수명으로 list를 사용하는 것보단 이름을 바꿔서 쓰는게 좋다\n",
    "\n",
    "Num = [-8, 2, 7, 5, -3 , 5, 0, 1]\n",
    "max(Num) + min(Num)\n",
    "# -8 + 7 = -1\n",
    "# max = 주어진 iterable(반복 가능한 객체) 또는 여러 개의 인수 중에서 가장 큰 값을 반환\n",
    "# min = 주어진 iterable(반복 가능한 객체) 또는 여러 개의 인수 중에서 가장 작은 값을 반환\n"
   ]
  },
  {
   "cell_type": "code",
   "execution_count": 27,
   "metadata": {},
   "outputs": [
    {
     "data": {
      "text/plain": [
       "5.6667"
      ]
     },
     "execution_count": 27,
     "metadata": {},
     "output_type": "execute_result"
    }
   ],
   "source": [
    "# 8\n",
    "x = 17 / 3\n",
    "round(x, 4)\n",
    "# round() 는 파이썬 기본 내장함수이다. 이를 사용하면 주어진 숫자를 지정한 소수점 자릿수에 맞춰 반올림하는 역할을 해줌\n",
    "# 정수, 실수, 복소수 등 모든 숫자에 적용가능하다"
   ]
  },
  {
   "cell_type": "code",
   "execution_count": 31,
   "metadata": {},
   "outputs": [
    {
     "ename": "FileNotFoundError",
     "evalue": "[Errno 2] No such file or directory: 'c:/doit'",
     "output_type": "error",
     "traceback": [
      "\u001b[0;31m---------------------------------------------------------------------------\u001b[0m",
      "\u001b[0;31mFileNotFoundError\u001b[0m                         Traceback (most recent call last)",
      "Cell \u001b[0;32mIn[31], line 3\u001b[0m\n\u001b[1;32m      1\u001b[0m \u001b[38;5;66;03m# 9\u001b[39;00m\n\u001b[1;32m      2\u001b[0m \u001b[38;5;28;01mimport\u001b[39;00m \u001b[38;5;21;01mos\u001b[39;00m\n\u001b[0;32m----> 3\u001b[0m \u001b[43mos\u001b[49m\u001b[38;5;241;43m.\u001b[39;49m\u001b[43mchdir\u001b[49m\u001b[43m(\u001b[49m\u001b[38;5;124;43m\"\u001b[39;49m\u001b[38;5;124;43mc:/doit\u001b[39;49m\u001b[38;5;124;43m\"\u001b[39;49m\u001b[43m)\u001b[49m\n",
      "\u001b[0;31mFileNotFoundError\u001b[0m: [Errno 2] No such file or directory: 'c:/doit'"
     ]
    }
   ],
   "source": [
    "# 9 - 미완\n",
    "import os\n",
    "os.chdir(\"c:/doit\")"
   ]
  },
  {
   "cell_type": "code",
   "execution_count": null,
   "metadata": {},
   "outputs": [],
   "source": [
    "# 10 - 미완 "
   ]
  },
  {
   "cell_type": "code",
   "execution_count": 35,
   "metadata": {},
   "outputs": [
    {
     "data": {
      "text/plain": [
       "'2024/11/04 17:35:27'"
      ]
     },
     "execution_count": 35,
     "metadata": {},
     "output_type": "execute_result"
    }
   ],
   "source": [
    "# 11\n",
    "import time #import time으로 time 모듈의 기능을 사용할 수 있도록 불러옴. 시간 관련 작업을 수행하는데 유용한 여러 기능 제공함(현재시간,UTC 등)\n",
    "time.strftime(\"%Y/%m/%d %H:%M:%S\") #time 모듈과 strftime 함수를 같이 써서 안에 들어갈 포맷 인자를 현재 시간으로 포맷하여 문자열로 변환함\n",
    "# time 모듈의 함수인 strftime 을 불러옴. strftime = string format time\n",
    "# 대소문자 구분은 표준화된 규칙에 따라 정해져있기 때문에, 년도(대문자Y) / 월(소문자m) 등 지키지 않으면 이상한 결과값이 나옴"
   ]
  },
  {
   "cell_type": "code",
   "execution_count": 51,
   "metadata": {},
   "outputs": [
    {
     "name": "stdout",
     "output_type": "stream",
     "text": [
      "[4, 12, 13, 17, 31, 37]\n"
     ]
    }
   ],
   "source": [
    "# 12 random 모듈을 사용하여 로또 번호 (1~45 사이의 숫자 6개를 생성). 중복 숫자 없어야함\n",
    "import random  \n",
    "print(sorted(random.sample(range(1,46),6)))\n",
    "# ramdom 모듈에서 제공하는 sample 함수를 사용해서, 리스트나 범위 안에서 무작위로 지정한 개수만큼의 값을 선택해줌\n",
    "# ㄴ 기본 문법: random.sample(데이터, 선택할 개수)\n",
    "# sample : 같은 숫자를 뽑지 않기에 중복이 없으며, 순서가 섞여서 나옴.\n",
    "# 순서를 정렬하기 위해 sorted 함수를 사용 (리스트로 된 숫자들을 오름차순으로 정렬함)"
   ]
  },
  {
   "cell_type": "code",
   "execution_count": 58,
   "metadata": {},
   "outputs": [
    {
     "name": "stdout",
     "output_type": "stream",
     "text": [
      "1051\n"
     ]
    }
   ],
   "source": [
    "# 13 누나 1995/11/20 , 동생 1998/10/6 며칠 차이 날까요? datetime.time 쓰래요\n",
    "import datetime\n",
    "print(abs(datetime.date(1995, 11, 20) - datetime.date(1998, 10, 6)).days)\n",
    "\n",
    "# 두 날짜 간의 차이를 계산하고, 그 결과를 일(day) 단위로 출력.\n",
    "# 음수로 나오는 부분을 배제시키기 위해 abs() 내장함수를 통해 정수로 출력."
   ]
  },
  {
   "cell_type": "code",
   "execution_count": 71,
   "metadata": {},
   "outputs": [
    {
     "name": "stdout",
     "output_type": "stream",
     "text": [
      "[('전정웅', 13.39), ('박상현', 14.16), ('김영순', 14.81), ('한지영', 14.83), ('오지아', 15.13), ('윤서현', 15.25), ('김예지', 15.31), ('박예원', 15.34), ('김시우', 15.48), ('송순자', 15.57), ('주병철', 15.67), ('문재호', 16.39), ('김혜진', 16.63), ('김영철', 16.7), ('김옥순', 16.71), ('윤지은', 16.93), ('최보람', 17.14), ('황민지', 17.65), ('이성호', 17.7), ('배숙자', 17.9)]\n"
     ]
    }
   ],
   "source": [
    "# 14\n",
    "import operator\n",
    "data = [('윤서현', 15.25), # data: 이름과 숫자 값을 넣은 튜플 리스트\n",
    "    ('김예지', 15.31),\n",
    "    ('박예원', 15.34),\n",
    "    ('송순자', 15.57),\n",
    "    ('김시우', 15.48),\n",
    "    ('배숙자', 17.9),\n",
    "    ('전정웅', 13.39),\n",
    "    ('김혜진', 16.63),\n",
    "    ('최보람', 17.14),\n",
    "    ('한지영', 14.83),\n",
    "    ('이성호', 17.7),\n",
    "    ('김옥순', 16.71),\n",
    "    ('황민지', 17.65),\n",
    "    ('김영철', 16.7),\n",
    "    ('주병철', 15.67),\n",
    "    ('박상현', 14.16),\n",
    "    ('김영순', 14.81),\n",
    "    ('오지아', 15.13),\n",
    "    ('윤지은', 16.93),\n",
    "    ('문재호', 16.39)]\n",
    "sorted_data = sorted(data, key=operator.itemgetter(1))\n",
    "print(sorted_data)\n",
    "# sorted() 함수에 key=operator.itemgetter(1)을 지정하여 각 튜플의 두 번째 요소인 숫자를 기준으로 오름차순 정렬"
   ]
  },
  {
   "cell_type": "code",
   "execution_count": 126,
   "metadata": {},
   "outputs": [
    {
     "name": "stdout",
     "output_type": "stream",
     "text": [
      "[('나지혜', '성성민'), ('나지혜', '윤지현'), ('나지혜', '김정숙'), ('성성민', '윤지현'), ('성성민', '김정숙'), ('윤지현', '김정숙')]\n"
     ]
    }
   ],
   "source": [
    "# 15\n",
    "import itertools # 이 모듈은 반복 작업과 관련된 다양한 함수를 제공\n",
    "\n",
    "del list\n",
    "students = ['나지혜', '성성민', '윤지현', '김정숙']\n",
    "result = itertools.combinations(students, 2) # 조합을 생성하는 combination 함수 사용\n",
    "# 스튜턴트 리스트에서 2명씩 뽑은 모든 가능한 쌍을 제공\n",
    "\n",
    "print(list(result)) #리절트 객체를 리스트 함수로 감싸 리스트 형태로 반환\n",
    "\n",
    "\n",
    "# 자꾸 int 타입 에러가 떠서 확인해보니, list 라는 이름이 어딘가에서 int 타입으로 덮어 씌워진 것이 원인이였음\n",
    "# 그래서 list가 더 이상 함수로 작동하지 않고 int 타입의 변수로 인식되어 오류가 발생했음\n",
    "# 예를 들어, list = 3 과 같은 코드로 list 를 덮어쓴 적이 있다면 list 가 내장함수로 동작하지 않기 때문에 list 변수를 삭제해야했음\n",
    "# 그래서 del list 를 떠서 지워주고 다시 실행하면 정상작동됨. *파이썬에서는 내장함수와 동일한 이름의 변수를 사용하지 않도록 주의하자"
   ]
  },
  {
   "cell_type": "code",
   "execution_count": 144,
   "metadata": {},
   "outputs": [
    {
     "name": "stdout",
     "output_type": "stream",
     "text": [
      "abcd\n",
      "abdc\n",
      "acbd\n",
      "acdb\n",
      "adbc\n",
      "adcb\n",
      "bacd\n",
      "badc\n",
      "bcad\n",
      "bcda\n",
      "bdac\n",
      "bdca\n",
      "cabd\n",
      "cadb\n",
      "cbad\n",
      "cbda\n",
      "cdab\n",
      "cdba\n",
      "dabc\n",
      "dacb\n",
      "dbac\n",
      "dbca\n",
      "dcab\n",
      "dcba\n"
     ]
    }
   ],
   "source": [
    "# 16\n",
    "import itertools # 반복 작업을 위한 모듈\n",
    "\n",
    "x = 'abcd'\n",
    "result = itertools.permutations(x, 4) # permutations : 주어진 데이터에서 가능한 모든 순열을 생성해주는 itertools에 포함된 함수\n",
    "# x 에서 길이 4의 모든 순열을 생성하여 반환\n",
    "for i in result: # result에 있는 각 순열을 i에 할당하면서 반복함\n",
    "    print(''.join(i)) # 튜플 i의 각 요소를 하나의 문자열로 결합하는 작업\n",
    "    # 예를 들어, i가 ('a','b','c','d') 일 때 ''.join(i)는 'abcd' 라는 문자열을 생성"
   ]
  },
  {
   "cell_type": "code",
   "execution_count": 183,
   "metadata": {},
   "outputs": [
    {
     "name": "stdout",
     "output_type": "stream",
     "text": [
      "('김민지', '설거지')\n",
      "('강민수', '빨래')\n",
      "('전희영', '청소')\n",
      "('이유진', '휴식')\n",
      "('어나경', '휴식')\n"
     ]
    }
   ],
   "source": [
    "# 17\n",
    "import itertools # 반복 작업을 위한 모듈\n",
    "\n",
    "human = ['강민수','김민지','어나경','이유진','전희영'] \n",
    "clear = ['청소','빨래','설거지']\n",
    "\n",
    "shuffled_human = random.sample(human, len(human)) # 기존 human 변수를 유지하되, 섞은 후 배정하기 위해 다른 변수 설정. 5 로 섞어\n",
    "shuffled_clear = random.sample(clear, len(clear)) # 기존 clear 변수를 유지하되, 섞은 후 배정하기 위해 다른 변수 설정. 3으로 섞어\n",
    "result = itertools.zip_longest(shuffled_human, shuffled_clear, fillvalue='휴식')\n",
    "# zip_longest 는 두 리스트의 길이가 다를 때, 부족한 쪽에 휴식을 넣어주는 함수. 여기서 fillvalue는 빈 값을 채워주는데 사용되는 매개변수\n",
    "# itertools.zip_longest(*iterables, fillvalue=None) 이런식으로 쓰임\n",
    "for i in result:\n",
    "    print(i)"
   ]
  },
  {
   "cell_type": "code",
   "execution_count": 186,
   "metadata": {},
   "outputs": [
    {
     "name": "stdout",
     "output_type": "stream",
     "text": [
      "200과 80의 최대 공약수는 40 입니다.\n",
      "필요한 타일의 개수는 10 입니다. \n"
     ]
    }
   ],
   "source": [
    "# 18\n",
    "import math\n",
    "\n",
    "width = 200\n",
    "height = 80\n",
    "\n",
    "tile_size = math.gcd(width, height)\n",
    "tiles_need = (width // tile_size) * (height // tile_size)\n",
    "print(f\"{width}과 {height}의 최대 공약수는 {tile_size} 입니다.\")\n",
    "print(f\"필요한 타일의 개수는 {tiles_need} 입니다. \")"
   ]
  },
  {
   "cell_type": "code",
   "execution_count": 43,
   "metadata": {},
   "outputs": [
    {
     "name": "stdout",
     "output_type": "stream",
     "text": [
      "3\n",
      "7\n"
     ]
    }
   ],
   "source": [
    "result = 0\n",
    "\n",
    "def add(num):\n",
    "    global result\n",
    "    result += num\n",
    "    return result\n",
    "\n",
    "print(add(3))\n",
    "print(add(4))"
   ]
  },
  {
   "cell_type": "code",
   "execution_count": 2,
   "metadata": {},
   "outputs": [
    {
     "name": "stdout",
     "output_type": "stream",
     "text": [
      "3\n",
      "7\n",
      "3\n",
      "10\n"
     ]
    }
   ],
   "source": [
    "result1 = 0\n",
    "result2 = 0\n",
    "\n",
    "def add1(num):\n",
    "    global result1\n",
    "    result1 += num\n",
    "    return result1\n",
    "\n",
    "def add2(num):\n",
    "    global result2\n",
    "    result2 += num\n",
    "    return result2\n",
    "\n",
    "print(add1(3))\n",
    "print(add1(4))\n",
    "print(add2(3))\n",
    "print(add2(7))"
   ]
  },
  {
   "cell_type": "code",
   "execution_count": 3,
   "metadata": {},
   "outputs": [
    {
     "name": "stdout",
     "output_type": "stream",
     "text": [
      "3\n",
      "7\n",
      "-3\n",
      "-10\n"
     ]
    }
   ],
   "source": [
    "result1 = 0\n",
    "result2 = 0\n",
    "\n",
    "def add1(num):\n",
    "    global result1\n",
    "    result1 += num\n",
    "    return result1\n",
    "\n",
    "def add2(num):\n",
    "    global result2\n",
    "    result2 -= num\n",
    "    return result2\n",
    "\n",
    "print(add1(3))\n",
    "print(add1(4))\n",
    "print(add2(3))\n",
    "print(add2(7))"
   ]
  },
  {
   "cell_type": "code",
   "execution_count": 4,
   "metadata": {},
   "outputs": [
    {
     "name": "stdout",
     "output_type": "stream",
     "text": [
      "3\n",
      "7\n",
      "3\n",
      "10\n"
     ]
    }
   ],
   "source": [
    "class Calculator:\n",
    "    def __init__(self):\n",
    "        self.result = 0\n",
    "\n",
    "    def add(self, num):\n",
    "        self.result += num\n",
    "        return self.result\n",
    "    \n",
    "cal1 = Calculator()\n",
    "cal2 = Calculator()\n",
    "\n",
    "print(cal1.add(3))\n",
    "print(cal1.add(4))\n",
    "print(cal2.add(3))\n",
    "print(cal2.add(7))"
   ]
  },
  {
   "cell_type": "code",
   "execution_count": 10,
   "metadata": {},
   "outputs": [
    {
     "name": "stdout",
     "output_type": "stream",
     "text": [
      "3\n",
      "7\n",
      "3\n",
      "10\n",
      "-10\n",
      "-20\n"
     ]
    }
   ],
   "source": [
    "class Calculator:\n",
    "    def __init__(self):\n",
    "        self.result = 0\n",
    "\n",
    "    def add(self, num):\n",
    "        self.result += num\n",
    "        return self.result\n",
    "\n",
    "    def sub(self, num):\n",
    "        self.result -= num\n",
    "        return self.result\n",
    "    \n",
    "cal1 = Calculator()\n",
    "cal2 = Calculator()\n",
    "cal3 = Calculator()\n",
    "\n",
    "print(cal1.add(3))\n",
    "print(cal1.add(4))\n",
    "print(cal2.add(3))\n",
    "print(cal2.add(7))\n",
    "print(cal3.sub(10))\n",
    "print(cal3.sub(10))"
   ]
  },
  {
   "cell_type": "code",
   "execution_count": 16,
   "metadata": {},
   "outputs": [
    {
     "data": {
      "text/plain": [
       "0.375"
      ]
     },
     "execution_count": 16,
     "metadata": {},
     "output_type": "execute_result"
    }
   ],
   "source": [
    "class FourCal:\n",
    "    def setdata(self, first, second):\n",
    "        self.first = first\n",
    "        self.second = second\n",
    "    def add(self):\n",
    "        result = self.first + self.second\n",
    "        return result\n",
    "    def mul(self):\n",
    "        result = self.first * self.second\n",
    "        return result\n",
    "    def sub(self):\n",
    "        result = self.first - self.second\n",
    "        return result\n",
    "    def div(self):\n",
    "        result = self.first / self.second\n",
    "        return result\n",
    "\n",
    "a = FourCal()\n",
    "b = FourCal()\n",
    "a.setdata(4, 2)\n",
    "b.setdata(3, 8)\n",
    "b.div()"
   ]
  },
  {
   "cell_type": "code",
   "execution_count": 17,
   "metadata": {},
   "outputs": [],
   "source": [
    "class FourCal:\n",
    "    def __init__(self, first, second):\n",
    "        self.first = first\n",
    "        self.second = second\n",
    "    def setdata(self, first, second):\n",
    "        self.first = first\n",
    "        self.second = second\n",
    "    def add(self):\n",
    "        result = self.first + self.second\n",
    "        return result\n",
    "    def mul(self):\n",
    "        result = self.first * self.second\n",
    "        return result\n",
    "    def sub(self):\n",
    "        result = self.first - self.second\n",
    "        return result\n",
    "    def div(self):\n",
    "        result = self.first / self.second\n",
    "        return result\n"
   ]
  },
  {
   "cell_type": "code",
   "execution_count": 28,
   "metadata": {},
   "outputs": [
    {
     "data": {
      "text/plain": [
       "6"
      ]
     },
     "execution_count": 28,
     "metadata": {},
     "output_type": "execute_result"
    }
   ],
   "source": [
    "class FourCal:\n",
    "    def __init__(self, first, second):\n",
    "        self.first = first\n",
    "        self.second = second\n",
    "    def setdata(self, first, second):\n",
    "        self.first = first\n",
    "        self.second = second\n",
    "    def add(self):\n",
    "        result = self.first + self.second\n",
    "        return result\n",
    "    def mul(self):\n",
    "        result = self.first * self.second\n",
    "        return result\n",
    "    def sub(self):\n",
    "        result = self.first - self.second\n",
    "        return result\n",
    "    def div(self):\n",
    "        result = self.first / self.second\n",
    "        return result\n",
    "a = FourCal(4,2)\n",
    "a.add()"
   ]
  },
  {
   "cell_type": "code",
   "execution_count": 38,
   "metadata": {},
   "outputs": [
    {
     "data": {
      "text/plain": [
       "(6, 8, 2, 2.0)"
      ]
     },
     "execution_count": 38,
     "metadata": {},
     "output_type": "execute_result"
    }
   ],
   "source": [
    "class FourCal:\n",
    "    def __init__(self, first, second):\n",
    "        self.first = first\n",
    "        self.second = second\n",
    "    def setdata(self, first, second):\n",
    "        self.first = first\n",
    "        self.second = second\n",
    "    def add(self):\n",
    "        result = self.first + self.second\n",
    "        return result\n",
    "    def mul(self):\n",
    "        result = self.first * self.second\n",
    "        return result\n",
    "    def sub(self):\n",
    "        result = self.first - self.second\n",
    "        return result\n",
    "    def div(self):\n",
    "        result = self.first / self.second\n",
    "        return result\n",
    "class MoreFourCal(FourCal):\n",
    "    pass\n",
    "a = MoreFourCal(4, 2)\n",
    "a.add(), a.mul(), a.sub(), a.div()"
   ]
  },
  {
   "cell_type": "code",
   "execution_count": 39,
   "metadata": {},
   "outputs": [
    {
     "ename": "ZeroDivisionError",
     "evalue": "division by zero",
     "output_type": "error",
     "traceback": [
      "\u001b[0;31m---------------------------------------------------------------------------\u001b[0m",
      "\u001b[0;31mZeroDivisionError\u001b[0m                         Traceback (most recent call last)",
      "Cell \u001b[0;32mIn[39], line 21\u001b[0m\n\u001b[1;32m     19\u001b[0m         \u001b[38;5;28;01mreturn\u001b[39;00m result\n\u001b[1;32m     20\u001b[0m a \u001b[38;5;241m=\u001b[39m FourCal(\u001b[38;5;241m4\u001b[39m, \u001b[38;5;241m0\u001b[39m)\n\u001b[0;32m---> 21\u001b[0m \u001b[43ma\u001b[49m\u001b[38;5;241;43m.\u001b[39;49m\u001b[43mdiv\u001b[49m\u001b[43m(\u001b[49m\u001b[43m)\u001b[49m\n",
      "Cell \u001b[0;32mIn[39], line 18\u001b[0m, in \u001b[0;36mFourCal.div\u001b[0;34m(self)\u001b[0m\n\u001b[1;32m     17\u001b[0m \u001b[38;5;28;01mdef\u001b[39;00m \u001b[38;5;21mdiv\u001b[39m(\u001b[38;5;28mself\u001b[39m):\n\u001b[0;32m---> 18\u001b[0m     result \u001b[38;5;241m=\u001b[39m \u001b[38;5;28;43mself\u001b[39;49m\u001b[38;5;241;43m.\u001b[39;49m\u001b[43mfirst\u001b[49m\u001b[43m \u001b[49m\u001b[38;5;241;43m/\u001b[39;49m\u001b[43m \u001b[49m\u001b[38;5;28;43mself\u001b[39;49m\u001b[38;5;241;43m.\u001b[39;49m\u001b[43msecond\u001b[49m\n\u001b[1;32m     19\u001b[0m     \u001b[38;5;28;01mreturn\u001b[39;00m result\n",
      "\u001b[0;31mZeroDivisionError\u001b[0m: division by zero"
     ]
    }
   ],
   "source": [
    "class FourCal:\n",
    "    def __init__(self, first, second):\n",
    "        self.first = first\n",
    "        self.second = second\n",
    "    def setdata(self, first, second):\n",
    "        self.first = first\n",
    "        self.second = second\n",
    "    def add(self):\n",
    "        result = self.first + self.second\n",
    "        return result\n",
    "    def mul(self):\n",
    "        result = self.first * self.second\n",
    "        return result\n",
    "    def sub(self):\n",
    "        result = self.first - self.second\n",
    "        return result\n",
    "    def div(self):\n",
    "        result = self.first / self.second\n",
    "        return result\n",
    "a = FourCal(4, 0)\n",
    "a.div()"
   ]
  },
  {
   "cell_type": "code",
   "execution_count": 41,
   "metadata": {},
   "outputs": [
    {
     "data": {
      "text/plain": [
       "0"
      ]
     },
     "execution_count": 41,
     "metadata": {},
     "output_type": "execute_result"
    }
   ],
   "source": [
    "class FourCal:\n",
    "    def __init__(self, first, second):\n",
    "        self.first = first\n",
    "        self.second = second\n",
    "    def setdata(self, first, second):\n",
    "        self.first = first\n",
    "        self.second = second\n",
    "    def add(self):\n",
    "        result = self.first + self.second\n",
    "        return result\n",
    "    def mul(self):\n",
    "        result = self.first * self.second\n",
    "        return result\n",
    "    def sub(self):\n",
    "        result = self.first - self.second\n",
    "        return result\n",
    "    def div(self):\n",
    "        result = self.first / self.second\n",
    "        return result\n",
    "class SafeFourCal(FourCal):\n",
    "    def div(self):\n",
    "        if self.second == 0:\n",
    "            return 0\n",
    "        else:\n",
    "            return self.first / self.second\n",
    "a = SafeFourCal(4, 0)\n",
    "a.div()"
   ]
  },
  {
   "cell_type": "code",
   "execution_count": 42,
   "metadata": {},
   "outputs": [
    {
     "data": {
      "text/plain": [
       "'김'"
      ]
     },
     "execution_count": 42,
     "metadata": {},
     "output_type": "execute_result"
    }
   ],
   "source": [
    "class Family:\n",
    "    lastname = \"김\"\n",
    "Family.lastname"
   ]
  },
  {
   "cell_type": "code",
   "execution_count": 45,
   "metadata": {},
   "outputs": [
    {
     "data": {
      "text/plain": [
       "('김', '김')"
      ]
     },
     "execution_count": 45,
     "metadata": {},
     "output_type": "execute_result"
    }
   ],
   "source": [
    "class Family:\n",
    "    lastname = \"김\"\n",
    "a = Family()\n",
    "b = Family()\n",
    "a.lastname, b.lastname"
   ]
  },
  {
   "cell_type": "code",
   "execution_count": 49,
   "metadata": {},
   "outputs": [],
   "source": [
    "def add(a, b):\n",
    "    return a + b\n",
    "def sub(a, b):\n",
    "    return a - b"
   ]
  }
 ],
 "metadata": {
  "kernelspec": {
   "display_name": "Python 3",
   "language": "python",
   "name": "python3"
  },
  "language_info": {
   "codemirror_mode": {
    "name": "ipython",
    "version": 3
   },
   "file_extension": ".py",
   "mimetype": "text/x-python",
   "name": "python",
   "nbconvert_exporter": "python",
   "pygments_lexer": "ipython3",
   "version": "3.9.6"
  }
 },
 "nbformat": 4,
 "nbformat_minor": 2
}
